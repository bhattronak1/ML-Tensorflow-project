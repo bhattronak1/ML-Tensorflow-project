{
  "nbformat": 4,
  "nbformat_minor": 0,
  "metadata": {
    "colab": {
      "name": "MINIST.ipynb",
      "provenance": [],
      "collapsed_sections": [],
      "authorship_tag": "ABX9TyNBvIhilFTlBzejsDf2Gv5c",
      "include_colab_link": true
    },
    "kernelspec": {
      "name": "python3",
      "display_name": "Python 3"
    }
  },
  "cells": [
    {
      "cell_type": "markdown",
      "metadata": {
        "id": "view-in-github",
        "colab_type": "text"
      },
      "source": [
        "<a href=\"https://colab.research.google.com/github/bhattronak1/ML-Tensorflow-project/blob/main/MINIST.ipynb\" target=\"_parent\"><img src=\"https://colab.research.google.com/assets/colab-badge.svg\" alt=\"Open In Colab\"/></a>"
      ]
    },
    {
      "cell_type": "code",
      "metadata": {
        "id": "gmcDfwhYdqC2"
      },
      "source": [
        "import sklearn\r\n",
        "assert sklearn.__version__>='0.20'\r\n",
        "import numpy as np\r\n",
        "import os\r\n",
        "#To plot figures\r\n",
        "%matplotlib inline\r\n",
        "import matplotlib as mpl\r\n",
        "import matplotlib.pyplot as plt\r\n",
        "mpl.rc('axes', labelsize=14)\r\n",
        "mpl.rc('xtick', labelsize=12)\r\n",
        "mpl.rc('ytick', labelsize=12)\r\n",
        "\r\n",
        "#where to save figures\r\n",
        "PROJECT_ROOT_DIR='.'\r\n",
        "CHAPTER_ID = 'end_to_end_project'\r\n",
        "IMAGE_PATH = os.path.join(PROJECT_ROOT_DIR, 'images', CHAPTER_ID)\r\n",
        "os.makedirs(IMAGE_PATH, exist_ok=True)\r\n",
        "\r\n",
        "def save_fig(fig_id, tight_layout=True, fig_extension='png', resolution=300):\r\n",
        "  path=os.path.join(IMAGE_PATH, fig_id + '.'+ fig_extension)\r\n",
        "  print('Saving figure', fig_id)\r\n",
        "  if tight_layout:\r\n",
        "    plt.tight_layout()\r\n",
        "  plt.savefig(path, format='png', dpi=300)\r\n",
        "\r\n",
        "\r\n",
        "# Ignore useless warning\r\n",
        "import warnings\r\n",
        "warnings.filterwarnings(action='ignore', message='^internal gelsd')"
      ],
      "execution_count": 1,
      "outputs": []
    },
    {
      "cell_type": "code",
      "metadata": {
        "colab": {
          "base_uri": "https://localhost:8080/"
        },
        "id": "I5jNUfeKeAXN",
        "outputId": "e17cb352-7604-4f2d-8094-c7c8ce95c8ed"
      },
      "source": [
        "from sklearn.datasets import fetch_openml\r\n",
        "mnist = fetch_openml('mnist_784', version=1)\r\n",
        "mnist.keys()"
      ],
      "execution_count": 2,
      "outputs": [
        {
          "output_type": "execute_result",
          "data": {
            "text/plain": [
              "dict_keys(['data', 'target', 'frame', 'feature_names', 'target_names', 'DESCR', 'details', 'categories', 'url'])"
            ]
          },
          "metadata": {
            "tags": []
          },
          "execution_count": 2
        }
      ]
    },
    {
      "cell_type": "code",
      "metadata": {
        "colab": {
          "base_uri": "https://localhost:8080/"
        },
        "id": "XCN536a1mM6I",
        "outputId": "b79590fd-38e7-465e-8676-a1261a9c81c3"
      },
      "source": [
        "X,y = mnist['data'], mnist['target']\r\n",
        "print(X.shape)\r\n",
        "print(y.shape)\r\n",
        "y=y.astype(np.uint8)"
      ],
      "execution_count": 3,
      "outputs": [
        {
          "output_type": "stream",
          "text": [
            "(70000, 784)\n",
            "(70000,)\n"
          ],
          "name": "stdout"
        }
      ]
    },
    {
      "cell_type": "code",
      "metadata": {
        "colab": {
          "base_uri": "https://localhost:8080/",
          "height": 269
        },
        "id": "LxCeIVZnm4F-",
        "outputId": "8b2687f3-830a-41c9-f5a9-4e82ee937b5e"
      },
      "source": [
        "%matplotlib inline\r\n",
        "import matplotlib\r\n",
        "import matplotlib.pyplot as plt\r\n",
        "\r\n",
        "a = X[0]\r\n",
        "a_image=a.reshape(28,28)\r\n",
        "\r\n",
        "plt.imshow(a_image)\r\n",
        "plt.show()\r\n"
      ],
      "execution_count": 4,
      "outputs": [
        {
          "output_type": "display_data",
          "data": {
            "image/png": "[encoded data removed]",
            "text/plain": [
              "<Figure size 432x288 with 1 Axes>"
            ]
          },
          "metadata": {
            "tags": [],
            "needs_background": "light"
          }
        }
      ]
    },
    {
      "cell_type": "code",
      "metadata": {
        "id": "Oj_2ahw5n3Q_"
      },
      "source": [
        "X_train, X_test, y_train, y_test = X[:60000], X[60000:], y[:60000], y[60000:]"
      ],
      "execution_count": 5,
      "outputs": []
    },
    {
      "cell_type": "code",
      "metadata": {
        "id": "H_PkWyjDu71h"
      },
      "source": [
        "shuffle_index = np.random.permutation(len(X_train))\r\n",
        "X_train, y_train = X_train[shuffle_index], y[shuffle_index]"
      ],
      "execution_count": 6,
      "outputs": []
    },
    {
      "cell_type": "code",
      "metadata": {
        "id": "fZmz4USz3p-f"
      },
      "source": [
        "y_train_5 = (y_train == 5)\r\n",
        "y_test_5 = (y_test == 5)"
      ],
      "execution_count": 7,
      "outputs": []
    },
    {
      "cell_type": "code",
      "metadata": {
        "colab": {
          "base_uri": "https://localhost:8080/"
        },
        "id": "cZeA4YuKzLCm",
        "outputId": "3bc9e5a7-aba5-4208-88d8-e1ad15bdd3a6"
      },
      "source": [
        "from sklearn.linear_model import SGDClassifier\r\n",
        "\r\n",
        "sgd_clf = SGDClassifier(max_iter=1000, tol=1e-3,random_state=42)\r\n",
        "sgd_clf.fit(X_train, y_train_5)"
      ],
      "execution_count": 8,
      "outputs": [
        {
          "output_type": "execute_result",
          "data": {
            "text/plain": [
              "SGDClassifier(alpha=0.0001, average=False, class_weight=None,\n",
              "              early_stopping=False, epsilon=0.1, eta0=0.0, fit_intercept=True,\n",
              "              l1_ratio=0.15, learning_rate='optimal', loss='hinge',\n",
              "              max_iter=1000, n_iter_no_change=5, n_jobs=None, penalty='l2',\n",
              "              power_t=0.5, random_state=42, shuffle=True, tol=0.001,\n",
              "              validation_fraction=0.1, verbose=0, warm_start=False)"
            ]
          },
          "metadata": {
            "tags": []
          },
          "execution_count": 8
        }
      ]
    },
    {
      "cell_type": "code",
      "metadata": {
        "id": "wnqrQEbL134q",
        "colab": {
          "base_uri": "https://localhost:8080/"
        },
        "outputId": "7e9a42f3-9bc4-4012-b321-1969e541b6db"
      },
      "source": [
        "sgd_clf.predict([a])"
      ],
      "execution_count": 9,
      "outputs": [
        {
          "output_type": "execute_result",
          "data": {
            "text/plain": [
              "array([ True])"
            ]
          },
          "metadata": {
            "tags": []
          },
          "execution_count": 9
        }
      ]
    },
    {
      "cell_type": "code",
      "metadata": {
        "id": "sR67CFm02-7K"
      },
      "source": [
        "from sklearn.model_selection import cross_val_score\r\n",
        "sgd_clf_cv = cross_val_score(sgd_clf, X_train, y_train_5, cv=3, scoring='accuracy')"
      ],
      "execution_count": 10,
      "outputs": []
    },
    {
      "cell_type": "code",
      "metadata": {
        "colab": {
          "base_uri": "https://localhost:8080/"
        },
        "id": "4ntvtb-ve3IY",
        "outputId": "574dd42c-b8f2-48cd-c32d-c4072cdc78dc"
      },
      "source": [
        "sgd_clf_cv"
      ],
      "execution_count": 11,
      "outputs": [
        {
          "output_type": "execute_result",
          "data": {
            "text/plain": [
              "array([0.96405, 0.95405, 0.96725])"
            ]
          },
          "metadata": {
            "tags": []
          },
          "execution_count": 11
        }
      ]
    },
    {
      "cell_type": "code",
      "metadata": {
        "colab": {
          "base_uri": "https://localhost:8080/"
        },
        "id": "hGd57R_9fUZ_",
        "outputId": "6975b9f8-8c2d-4929-f600-b05669c6bcd6"
      },
      "source": [
        "from sklearn.model_selection import cross_val_predict\r\n",
        "from sklearn.metrics import confusion_matrix\r\n",
        "sgd_clf_cv_predict = cross_val_predict(sgd_clf, X_train, y_train_5, cv=3)\r\n",
        "confusion_matrix(y_train_5,sgd_clf_cv_predict)\r\n"
      ],
      "execution_count": 12,
      "outputs": [
        {
          "output_type": "execute_result",
          "data": {
            "text/plain": [
              "array([[53325,  1254],\n",
              "       [ 1039,  4382]])"
            ]
          },
          "metadata": {
            "tags": []
          },
          "execution_count": 12
        }
      ]
    },
    {
      "cell_type": "code",
      "metadata": {
        "id": "mL9XEKnjhz68"
      },
      "source": [
        "from sklearn.metrics import precision_score, recall_score, f1_score\r\n",
        "sgd_clf_cv_precision= precision_score(y_train_5, sgd_clf_cv_predict)\r\n",
        "sgd_clf_cv_recall = recall_score(y_train_5, sgd_clf_cv_predict)\r\n",
        "sgd_clf_cv_f1_score = f1_score(y_train_5, sgd_clf_cv_predict)"
      ],
      "execution_count": 13,
      "outputs": []
    },
    {
      "cell_type": "code",
      "metadata": {
        "colab": {
          "base_uri": "https://localhost:8080/"
        },
        "id": "NVpADqVKlUX0",
        "outputId": "36546627-fe0c-47a7-bc7e-fe07fa744b97"
      },
      "source": [
        "print('Precision:',sgd_clf_cv_precision)\r\n",
        "print('Recall:',sgd_clf_cv_recall)\r\n",
        "print('F1-Score:',sgd_clf_cv_f1_score)"
      ],
      "execution_count": 14,
      "outputs": [
        {
          "output_type": "stream",
          "text": [
            "Precision: 0.7775017743080199\n",
            "Recall: 0.8083379450285925\n",
            "F1-Score: 0.7926200596906936\n"
          ],
          "name": "stdout"
        }
      ]
    },
    {
      "cell_type": "code",
      "metadata": {
        "id": "WDIkuUmcmB69"
      },
      "source": [
        "y_score= cross_val_predict(sgd_clf, X_train, y_train_5, cv=3, method='decision_function')"
      ],
      "execution_count": 15,
      "outputs": []
    },
    {
      "cell_type": "code",
      "metadata": {
        "id": "XY-6o5p0mDRz"
      },
      "source": [
        "from sklearn.metrics import precision_recall_curve\r\n",
        "\r\n",
        "precisions, recalls, thresholds = precision_recall_curve(y_train_5, y_score)\r\n"
      ],
      "execution_count": 16,
      "outputs": []
    },
    {
      "cell_type": "code",
      "metadata": {
        "id": "KSQJdZSbmWmu"
      },
      "source": [
        "def plot_precision_recall_vs_threshold(presisions, recalls, thresholds):\r\n",
        "  plt.plot(thresholds, precisions[:-1],'b', label='Precisions')\r\n",
        "  plt.plot(thresholds, recalls[:-1],'r', label='Recall')\r\n",
        "  plt.xlabel('Threshold')\r\n",
        "  plt.legend(loc='upper left')\r\n",
        "  plt.ylim=([0,1])"
      ],
      "execution_count": 17,
      "outputs": []
    },
    {
      "cell_type": "code",
      "metadata": {
        "colab": {
          "base_uri": "https://localhost:8080/",
          "height": 286
        },
        "id": "aPL9PezDw5IN",
        "outputId": "8092c398-cfad-42cd-9896-eb56f7ff6ce3"
      },
      "source": [
        "plot_precision_recall_vs_threshold(precisions, recalls, thresholds)\r\n",
        "plt.show()"
      ],
      "execution_count": 18,
      "outputs": [
        {
          "output_type": "display_data",
          "data": {
            "image/png": "[encoded data removed]",
            "text/plain": [
              "<Figure size 432x288 with 1 Axes>"
            ]
          },
          "metadata": {
            "tags": [],
            "needs_background": "light"
          }
        }
      ]
    },
    {
      "cell_type": "code",
      "metadata": {
        "id": "QSFi6ZJBw_4-"
      },
      "source": [
        "def plot_precision_vs_recalls(presisions, recalls):\r\n",
        "  plt.plot(recalls, precisions,'b-', linewidth=2)\r\n",
        "  plt.xlabel('Recall')\r\n",
        "  plt.ylabel('precision')\r\n",
        "  plt.axis([0,1,0,1])\r\n",
        "  plt.legend(loc='upper left')\r\n",
        "  plt.ylim=([0,1])"
      ],
      "execution_count": 19,
      "outputs": []
    },
    {
      "cell_type": "code",
      "metadata": {
        "colab": {
          "base_uri": "https://localhost:8080/",
          "height": 417
        },
        "id": "t_c_o9GzwO1B",
        "outputId": "a5dd4ab7-ffc4-412c-bd1d-30be2fff2589"
      },
      "source": [
        "plt.figure(figsize=(8,6))\r\n",
        "plot_precision_vs_recalls(precisions, recalls)\r\n",
        "plt.show()"
      ],
      "execution_count": 20,
      "outputs": [
        {
          "output_type": "stream",
          "text": [
            "No handles with labels found to put in legend.\n"
          ],
          "name": "stderr"
        },
        {
          "output_type": "display_data",
          "data": {
            "image/png": "[encoded data removed]",
            "text/plain": [
              "<Figure size 576x432 with 1 Axes>"
            ]
          },
          "metadata": {
            "tags": [],
            "needs_background": "light"
          }
        }
      ]
    },
    {
      "cell_type": "code",
      "metadata": {
        "id": "p4L2iyIdwUMy"
      },
      "source": [
        "threshold_90_precision = thresholds[np.argmax(precisions >= 0.90)]"
      ],
      "execution_count": 21,
      "outputs": []
    },
    {
      "cell_type": "code",
      "metadata": {
        "colab": {
          "base_uri": "https://localhost:8080/"
        },
        "id": "E6GCgGV7zSjE",
        "outputId": "f7fb31ba-528a-40a2-c634-de82132a660f"
      },
      "source": [
        "threshold_90_precision"
      ],
      "execution_count": 22,
      "outputs": [
        {
          "output_type": "execute_result",
          "data": {
            "text/plain": [
              "2906.3612894700505"
            ]
          },
          "metadata": {
            "tags": []
          },
          "execution_count": 22
        }
      ]
    },
    {
      "cell_type": "code",
      "metadata": {
        "id": "eFRMO21Azbq5"
      },
      "source": [
        "y_train_90 = (y_score >= threshold_90_precision)"
      ],
      "execution_count": 23,
      "outputs": []
    },
    {
      "cell_type": "code",
      "metadata": {
        "colab": {
          "base_uri": "https://localhost:8080/"
        },
        "id": "m_bD29J40uYO",
        "outputId": "ed01a12f-a9f2-450c-a5d0-48434a1af055"
      },
      "source": [
        "precision_score(y_train_5, y_train_90)"
      ],
      "execution_count": 24,
      "outputs": [
        {
          "output_type": "execute_result",
          "data": {
            "text/plain": [
              "0.9001544004117344"
            ]
          },
          "metadata": {
            "tags": []
          },
          "execution_count": 24
        }
      ]
    },
    {
      "cell_type": "code",
      "metadata": {
        "colab": {
          "base_uri": "https://localhost:8080/"
        },
        "id": "tzT2WoTL1Ugo",
        "outputId": "f266b2f4-e29f-43c1-c45b-69bf96bd9d84"
      },
      "source": [
        "recall_score(y_train_5, y_train_90)"
      ],
      "execution_count": 25,
      "outputs": [
        {
          "output_type": "execute_result",
          "data": {
            "text/plain": [
              "0.6452684006640841"
            ]
          },
          "metadata": {
            "tags": []
          },
          "execution_count": 25
        }
      ]
    },
    {
      "cell_type": "code",
      "metadata": {
        "colab": {
          "base_uri": "https://localhost:8080/"
        },
        "id": "_4bF0jwQ1m6z",
        "outputId": "03136d53-3447-47ae-d59e-e352a38a142e"
      },
      "source": [
        "sgd_clf.fit(X_train, y_train)\r\n"
      ],
      "execution_count": 26,
      "outputs": [
        {
          "output_type": "execute_result",
          "data": {
            "text/plain": [
              "SGDClassifier(alpha=0.0001, average=False, class_weight=None,\n",
              "              early_stopping=False, epsilon=0.1, eta0=0.0, fit_intercept=True,\n",
              "              l1_ratio=0.15, learning_rate='optimal', loss='hinge',\n",
              "              max_iter=1000, n_iter_no_change=5, n_jobs=None, penalty='l2',\n",
              "              power_t=0.5, random_state=42, shuffle=True, tol=0.001,\n",
              "              validation_fraction=0.1, verbose=0, warm_start=False)"
            ]
          },
          "metadata": {
            "tags": []
          },
          "execution_count": 26
        }
      ]
    },
    {
      "cell_type": "code",
      "metadata": {
        "colab": {
          "base_uri": "https://localhost:8080/"
        },
        "id": "bBixmBt656kH",
        "outputId": "d58d1112-1e5e-4466-aa16-2b0725e756af"
      },
      "source": [
        "sgd_clf.predict([a])"
      ],
      "execution_count": 27,
      "outputs": [
        {
          "output_type": "execute_result",
          "data": {
            "text/plain": [
              "array([5], dtype=uint8)"
            ]
          },
          "metadata": {
            "tags": []
          },
          "execution_count": 27
        }
      ]
    },
    {
      "cell_type": "code",
      "metadata": {
        "id": "1xbUaR-I7xIY"
      },
      "source": [
        "from sklearn.multiclass import OneVsRestClassifier\r\n"
      ],
      "execution_count": 28,
      "outputs": []
    },
    {
      "cell_type": "code",
      "metadata": {
        "id": "ACFRDy0t8fFf"
      },
      "source": [
        "ovr_clf= OneVsRestClassifier(SGDClassifier(random_state=42))"
      ],
      "execution_count": 29,
      "outputs": []
    },
    {
      "cell_type": "code",
      "metadata": {
        "colab": {
          "base_uri": "https://localhost:8080/"
        },
        "id": "lK5_1tNv964b",
        "outputId": "521b6bb2-8fa9-4c45-954b-2f8f6e6ae8a6"
      },
      "source": [
        "ovr_clf.fit(X_train[:1000],y_train[:1000])"
      ],
      "execution_count": 30,
      "outputs": [
        {
          "output_type": "execute_result",
          "data": {
            "text/plain": [
              "OneVsRestClassifier(estimator=SGDClassifier(alpha=0.0001, average=False,\n",
              "                                            class_weight=None,\n",
              "                                            early_stopping=False, epsilon=0.1,\n",
              "                                            eta0=0.0, fit_intercept=True,\n",
              "                                            l1_ratio=0.15,\n",
              "                                            learning_rate='optimal',\n",
              "                                            loss='hinge', max_iter=1000,\n",
              "                                            n_iter_no_change=5, n_jobs=None,\n",
              "                                            penalty='l2', power_t=0.5,\n",
              "                                            random_state=42, shuffle=True,\n",
              "                                            tol=0.001, validation_fraction=0.1,\n",
              "                                            verbose=0, warm_start=False),\n",
              "                    n_jobs=None)"
            ]
          },
          "metadata": {
            "tags": []
          },
          "execution_count": 30
        }
      ]
    },
    {
      "cell_type": "code",
      "metadata": {
        "colab": {
          "base_uri": "https://localhost:8080/"
        },
        "id": "S_s0cqyXA05o",
        "outputId": "045b7715-8d15-4800-fb75-981a623399c7"
      },
      "source": [
        "ovr_clf.predict([a])"
      ],
      "execution_count": 31,
      "outputs": [
        {
          "output_type": "execute_result",
          "data": {
            "text/plain": [
              "array([5], dtype=uint8)"
            ]
          },
          "metadata": {
            "tags": []
          },
          "execution_count": 31
        }
      ]
    },
    {
      "cell_type": "code",
      "metadata": {
        "colab": {
          "base_uri": "https://localhost:8080/"
        },
        "id": "vsNKujhVA4I6",
        "outputId": "722a1f7d-a99b-46b3-9c06-ae62ebf736bc"
      },
      "source": [
        "from sklearn.ensemble import RandomForestClassifier\r\n",
        "rand_clf= RandomForestClassifier(random_state=42)\r\n",
        "rand_clf.fit(X_train[:1000],y_train[:1000])"
      ],
      "execution_count": 32,
      "outputs": [
        {
          "output_type": "execute_result",
          "data": {
            "text/plain": [
              "RandomForestClassifier(bootstrap=True, ccp_alpha=0.0, class_weight=None,\n",
              "                       criterion='gini', max_depth=None, max_features='auto',\n",
              "                       max_leaf_nodes=None, max_samples=None,\n",
              "                       min_impurity_decrease=0.0, min_impurity_split=None,\n",
              "                       min_samples_leaf=1, min_samples_split=2,\n",
              "                       min_weight_fraction_leaf=0.0, n_estimators=100,\n",
              "                       n_jobs=None, oob_score=False, random_state=42, verbose=0,\n",
              "                       warm_start=False)"
            ]
          },
          "metadata": {
            "tags": []
          },
          "execution_count": 32
        }
      ]
    },
    {
      "cell_type": "code",
      "metadata": {
        "colab": {
          "base_uri": "https://localhost:8080/"
        },
        "id": "vaMmxQsUBVCR",
        "outputId": "2e528f5c-2ce0-4534-a1e6-f9fe74a12f83"
      },
      "source": [
        "rand_clf.predict([a])"
      ],
      "execution_count": 33,
      "outputs": [
        {
          "output_type": "execute_result",
          "data": {
            "text/plain": [
              "array([5], dtype=uint8)"
            ]
          },
          "metadata": {
            "tags": []
          },
          "execution_count": 33
        }
      ]
    },
    {
      "cell_type": "code",
      "metadata": {
        "id": "FngJFwOVBe7n"
      },
      "source": [
        "y_pred = cross_val_predict(sgd_clf, X_train, y_train, cv=3)"
      ],
      "execution_count": 34,
      "outputs": []
    },
    {
      "cell_type": "code",
      "metadata": {
        "id": "12Zpe44-FAKi"
      },
      "source": [
        "conf_mtrx = confusion_matrix(y_train, y_pred)"
      ],
      "execution_count": 35,
      "outputs": []
    },
    {
      "cell_type": "code",
      "metadata": {
        "colab": {
          "base_uri": "https://localhost:8080/"
        },
        "id": "7fr91pemGUmx",
        "outputId": "0ab92a27-dfe7-4c05-8314-7b3474f59ece"
      },
      "source": [
        "conf_mtrx"
      ],
      "execution_count": 36,
      "outputs": [
        {
          "output_type": "execute_result",
          "data": {
            "text/plain": [
              "array([[5461,    1,  121,   32,    4,  112,   80,   10,   77,   25],\n",
              "       [   1, 6520,   41,   19,    5,   31,    9,   12,   90,   14],\n",
              "       [  24,   79, 5310,  116,   41,   53,   75,   65,  172,   23],\n",
              "       [  20,   45,  256, 5252,    7,  235,   17,   52,  163,   84],\n",
              "       [  10,   34,  106,   30, 5052,   51,   68,   29,  109,  353],\n",
              "       [  40,   25,   73,  274,   41, 4566,  116,   25,  186,   75],\n",
              "       [  18,   27,   97,    6,   28,  132, 5532,    8,   64,    6],\n",
              "       [  12,   28,  112,   41,   50,   25,   10, 5681,   42,  264],\n",
              "       [  23,  142,  173,  179,   21,  436,   44,   26, 4665,  142],\n",
              "       [  13,   23,   91,  141,  116,  124,    4,  216,  146, 5075]])"
            ]
          },
          "metadata": {
            "tags": []
          },
          "execution_count": 36
        }
      ]
    },
    {
      "cell_type": "code",
      "metadata": {
        "colab": {
          "base_uri": "https://localhost:8080/",
          "height": 295
        },
        "id": "uL3dACIZGX59",
        "outputId": "0bc20d4f-9dcf-42ee-e5e0-ab5bb9bd711d"
      },
      "source": [
        "plt.matshow(conf_mtrx, cmap=plt.cm.gray)"
      ],
      "execution_count": 37,
      "outputs": [
        {
          "output_type": "execute_result",
          "data": {
            "text/plain": [
              "<matplotlib.image.AxesImage at 0x7f5de73bc4a8>"
            ]
          },
          "metadata": {
            "tags": []
          },
          "execution_count": 37
        },
        {
          "output_type": "display_data",
          "data": {
            "image/png": "[encoded data removed]",
            "text/plain": [
              "<Figure size 288x288 with 1 Axes>"
            ]
          },
          "metadata": {
            "tags": [],
            "needs_background": "light"
          }
        }
      ]
    },
    {
      "cell_type": "code",
      "metadata": {
        "id": "_tUI6FOfJ6eN"
      },
      "source": [
        "from sklearn.neighbors import KNeighborsClassifier\r\n",
        "from sklearn.model_selection import GridSearchCV\r\n",
        "\r\n",
        "para_grid= [\r\n",
        "            {'weights':['uniform','distance']},\r\n",
        "            {'n_neighbors':[2,3,4]}\r\n",
        "]\r\n"
      ],
      "execution_count": 38,
      "outputs": []
    },
    {
      "cell_type": "code",
      "metadata": {
        "id": "XkkPgf4ksbhI"
      },
      "source": [
        "knn_clf = KNeighborsClassifier()"
      ],
      "execution_count": 39,
      "outputs": []
    },
    {
      "cell_type": "code",
      "metadata": {
        "colab": {
          "base_uri": "https://localhost:8080/"
        },
        "id": "w-w86VadsomH",
        "outputId": "60948d46-76cb-4267-f0c8-f274e272d0d3"
      },
      "source": [
        "grid_search = GridSearchCV(knn_clf, para_grid, cv=3, scoring='accuracy', verbose = 3 )\r\n",
        "grid_search.fit(X_train, y_train)"
      ],
      "execution_count": null,
      "outputs": [
        {
          "output_type": "stream",
          "text": [
            "Fitting 3 folds for each of 5 candidates, totalling 15 fits\n",
            "[CV] weights=uniform .................................................\n"
          ],
          "name": "stdout"
        },
        {
          "output_type": "stream",
          "text": [
            "[Parallel(n_jobs=1)]: Using backend SequentialBackend with 1 concurrent workers.\n"
          ],
          "name": "stderr"
        }
      ]
    },
    {
      "cell_type": "code",
      "metadata": {
        "id": "FYSvSnUctyD5"
      },
      "source": [
        ""
      ],
      "execution_count": null,
      "outputs": []
    }
  ]
}